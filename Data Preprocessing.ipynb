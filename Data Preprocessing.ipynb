{
 "cells": [
  {
   "cell_type": "code",
   "execution_count": 1,
   "id": "brave-profit",
   "metadata": {},
   "outputs": [],
   "source": [
    "import cv2 as cv\n",
    "import numpy as np\n",
    "import matplotlib.pyplot as plt\n",
    "from tensorflow.keras.models import load_model\n",
    "import tensorflow as tf"
   ]
  },
  {
   "cell_type": "markdown",
   "id": "disturbed-video",
   "metadata": {},
   "source": [
    "<h3>Horizontal Projection"
   ]
  },
  {
   "cell_type": "code",
   "execution_count": 2,
   "id": "applicable-vector",
   "metadata": {},
   "outputs": [],
   "source": [
    "def horizontal_projection(thresh1):\n",
    "    row_matrix = [] #it containing all row segements\n",
    "    segemetation = []\n",
    "    count = 0\n",
    "    i = 0\n",
    "    copy_image  = thresh1\n",
    "    for p in range(thresh1.shape[0]):\n",
    "        if(copy_image[i].sum() == 0):\n",
    "            count = count  + 1\n",
    "            i = i+1\n",
    "            if(count == 5):\n",
    "                segemetation.append(copy_image[0:i,:])\n",
    "                copy_image = np.delete(copy_image,np.s_[0:i], axis = 0)\n",
    "                count = 0\n",
    "                i = 0\n",
    "        else:\n",
    "            count = 0\n",
    "            i = i + 1\n",
    "    m = len(segemetation)\n",
    "    for i in range(m):\n",
    "        if(segemetation[i].sum() > 0):\n",
    "            row_matrix.append(segemetation[i])\n",
    "    return row_matrix"
   ]
  },
  {
   "cell_type": "markdown",
   "id": "smoking-sunset",
   "metadata": {},
   "source": [
    "<h3>Vertical Projection|"
   ]
  },
  {
   "cell_type": "code",
   "execution_count": 3,
   "id": "indonesian-conversation",
   "metadata": {},
   "outputs": [],
   "source": [
    "def vertical_projection(image):\n",
    "    row_matrix = []\n",
    "    row = image\n",
    "    segmentation = []\n",
    "    count = 0\n",
    "    i = 0\n",
    "    for p in range(image.shape[1]):\n",
    "        if(row[:,i].sum() == 0):\n",
    "            count += 1\n",
    "            i += 1\n",
    "            if(count == 5):\n",
    "                segmentation.append(row[:,0:i])\n",
    "                row = np.delete(row,np.s_[0:i],axis = 1)\n",
    "                count = 0\n",
    "                i = 0\n",
    "        else:\n",
    "            count = 0\n",
    "            i += 1\n",
    "    m = len(segmentation)\n",
    "    for i in range(m):\n",
    "        if(segmentation[i].sum() > 0):\n",
    "            row_matrix.append(segmentation[i])\n",
    "    return row_matrix"
   ]
  },
  {
   "cell_type": "markdown",
   "id": "informed-patient",
   "metadata": {},
   "source": [
    "<h3> Image crop"
   ]
  },
  {
   "cell_type": "code",
   "execution_count": 4,
   "id": "arranged-boston",
   "metadata": {},
   "outputs": [],
   "source": [
    "def crop(thresh1):\n",
    "    #Top adjusting\n",
    "    try:\n",
    "        i = 0\n",
    "        while(thresh1[i].sum() == 0):\n",
    "            if(thresh1[i+8].sum() == 0):\n",
    "                thresh1 = np.delete(thresh1,0,0)\n",
    "            else:\n",
    "                break\n",
    "    except:\n",
    "        pass\n",
    "    #Bottom adjusting\n",
    "    try:\n",
    "        i = thresh1.shape[0] -1\n",
    "        while(thresh1[i].sum() == 0):\n",
    "            if(thresh1[i-8].sum() == 0):\n",
    "                thresh1 = np.delete(thresh1,i,0)\n",
    "                i = i -1\n",
    "            else:\n",
    "                break\n",
    "    except:\n",
    "        pass\n",
    "    #right part of matrix is adjusting\n",
    "    try:\n",
    "        i = thresh1.shape[1] -1\n",
    "        s = thresh1.sum(axis = 0)\n",
    "        p = -1\n",
    "        while(s[p] == 0):\n",
    "            if(s[p-8] == 0):\n",
    "                thresh1 = np.delete(thresh1,-1, axis = 1)\n",
    "                s = np.delete(s, -1, axis=0)\n",
    "            else:\n",
    "                break\n",
    "    except:\n",
    "        pass\n",
    "    #left side adusting\n",
    "    try:\n",
    "        i = thresh1.shape[1] -1\n",
    "        s = thresh1.sum(axis = 0)\n",
    "        p = 0\n",
    "        while(s[p] == 0):\n",
    "            if(s[p + 8] == 0):\n",
    "                thresh1 = np.delete(thresh1,1, axis = 1)\n",
    "                s = np.delete(s, 1, axis=0)\n",
    "            else:\n",
    "                break\n",
    "    except:\n",
    "        pass\n",
    "    return thresh1"
   ]
  },
  {
   "cell_type": "markdown",
   "id": "rough-ranch",
   "metadata": {},
   "source": [
    "<h3>Apply Threshold inverse"
   ]
  },
  {
   "cell_type": "code",
   "execution_count": 5,
   "id": "listed-rouge",
   "metadata": {},
   "outputs": [
    {
     "data": {
      "text/plain": [
       "<matplotlib.image.AxesImage at 0x7f7e482cc310>"
      ]
     },
     "execution_count": 5,
     "metadata": {},
     "output_type": "execute_result"
    },
    {
     "data": {
      "image/png": "[encoded data removed]",
      "text/plain": [
       "<Figure size 432x288 with 1 Axes>"
      ]
     },
     "metadata": {
      "needs_background": "light"
     },
     "output_type": "display_data"
    }
   ],
   "source": [
    "image = cv.imread('3.jpeg',0)\n",
    "#ret,thresh1 = cv.threshold(image, 127, 255, cv.THRESH_BINARY_INV)\n",
    "#(thresh, thresh1) = cv.threshold(image, 128, 255, cv.THRESH_BINARY_INV | cv.THRESH_OTSU)\n",
    "thresh1 = cv.threshold(image, 127, 255, cv.THRESH_BINARY_INV)[1]\n",
    "#thresh1 = tf.keras.utils.normalize(thresh1, axis = 1)\n",
    "kernel = np.ones((6,6),np.uint8)\n",
    "opening = cv.morphologyEx(thresh1, cv.MORPH_OPEN, kernel)\n",
    "closing = cv.morphologyEx(thresh1, cv.MORPH_CLOSE, kernel)\n",
    "thresh = crop(opening)\n",
    "#newimg = tf.keras.utils.normalize(thresh1, axis = 1)\n",
    "plt.imshow(thresh1)\n",
    "#cv.imshow('Original',image)\n",
    "#cv.waitKey()"
   ]
  },
  {
   "cell_type": "markdown",
   "id": "joint-poverty",
   "metadata": {},
   "source": [
    "<h3>Matrix Prediction"
   ]
  },
  {
   "cell_type": "code",
   "execution_count": 6,
   "id": "married-bunny",
   "metadata": {},
   "outputs": [],
   "source": [
    "matrix = []\n",
    "horizontal = horizontal_projection(thresh)\n",
    "#cv.imshow('Original',horizontal[2])\n",
    "#cv.waitKey()\n",
    "no_rows = len(horizontal)\n",
    "for i in range(no_rows):\n",
    "    vertical = vertical_projection(horizontal[i])\n",
    "    no_colmun = len(vertical)\n",
    "    for j in range(no_colmun):\n",
    "        vertical[j] = crop(vertical[j])\n",
    "    matrix.append(vertical)\n",
    "#cv.imshow('Original',matrix[2][2])\n",
    "#cv.waitKey()"
   ]
  },
  {
   "cell_type": "code",
   "execution_count": 7,
   "id": "tropical-anime",
   "metadata": {},
   "outputs": [
    {
     "name": "stdout",
     "output_type": "stream",
     "text": [
      "Predicted matrix is\n"
     ]
    },
    {
     "data": {
      "text/plain": [
       "array([[2, 2, 3],\n",
       "       [4, 5, 0],\n",
       "       [1, 8, 9]])"
      ]
     },
     "execution_count": 7,
     "metadata": {},
     "output_type": "execute_result"
    }
   ],
   "source": [
    "#from tensorflow.keras.models import load_model\n",
    "#import tensorflow as tf\n",
    "model = load_model('cnn_model.h5')\n",
    "my_rows, my_cols = (no_rows, no_colmun)\n",
    "my_array = [[0]*my_cols]*my_rows\n",
    "my_array = np.array(my_array)\n",
    "for i in range(3):\n",
    "    for j in range(3):\n",
    "        th = matrix[i][j]\n",
    "        resized = cv.resize(th,(28,28), interpolation = cv.INTER_AREA)\n",
    "        newimg = tf.keras.utils.normalize(resized, axis = 1)\n",
    "        newimg = np.array(newimg).reshape(-1,28,28,1)\n",
    "        prediction = model.predict(newimg)\n",
    "        value = np.argmax(prediction)\n",
    "        my_array[i][j] = value\n",
    "print('Predicted matrix is')\n",
    "my_array"
   ]
  },
  {
   "cell_type": "code",
   "execution_count": 13,
   "id": "framed-adelaide",
   "metadata": {},
   "outputs": [
    {
     "name": "stdout",
     "output_type": "stream",
     "text": [
      "Eigen values :\n",
      "[11.28247886+0.j         2.35876057+1.7919029j  2.35876057-1.7919029j]\n",
      "Eigen Vectors :\n",
      "[[ 0.34233996+0.j          0.28972461-0.38096049j  0.28972461+0.38096049j]\n",
      " [ 0.2179649 +0.j         -0.56851576+0.19124239j -0.56851576-0.19124239j]\n",
      " [ 0.91394456+0.j          0.64120584+0.j          0.64120584-0.j        ]]\n",
      "Transpose\n",
      "[[2 4 1]\n",
      " [2 5 8]\n",
      " [3 0 9]]\n",
      "Inverse\n",
      "[[ 0.45454545  0.06060606 -0.15151515]\n",
      " [-0.36363636  0.15151515  0.12121212]\n",
      " [ 0.27272727 -0.14141414  0.02020202]]\n",
      "Determinant : \n",
      "98.99999999999999\n"
     ]
    }
   ],
   "source": [
    "from numpy import linalg as LA\n",
    "w, v = LA.eig(my_array)\n",
    "print(\"Eigen values :\")\n",
    "print(w)\n",
    "print('Eigen Vectors :')\n",
    "print(v)\n",
    "print(\"Transpose\")\n",
    "print(np.transpose(my_array))\n",
    "print(\"Inverse\")\n",
    "try:\n",
    "    print(np.linalg.inv(my_array))\n",
    "except:\n",
    "    print('Matrix is sigular, Can not find Inverse')\n",
    "print(\"Determinant : \")\n",
    "print(np.linalg.det(my_array))"
   ]
  },
  {
   "cell_type": "code",
   "execution_count": null,
   "id": "diverse-identifier",
   "metadata": {},
   "outputs": [],
   "source": []
  }
 ],
 "metadata": {
  "kernelspec": {
   "display_name": "Python 3.8.5 64-bit",
   "language": "python",
   "name": "python38564bit3d4e4e887ecb4475a101c3f1a65de3f9"
  },
  "language_info": {
   "codemirror_mode": {
    "name": "ipython",
    "version": 3
   },
   "file_extension": ".py",
   "mimetype": "text/x-python",
   "name": "python",
   "nbconvert_exporter": "python",
   "pygments_lexer": "ipython3",
   "version": "3.8.10"
  }
 },
 "nbformat": 4,
 "nbformat_minor": 5
}
